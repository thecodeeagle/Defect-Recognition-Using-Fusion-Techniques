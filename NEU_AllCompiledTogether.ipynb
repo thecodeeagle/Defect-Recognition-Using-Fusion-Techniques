{
  "nbformat": 4,
  "nbformat_minor": 0,
  "metadata": {
    "accelerator": "GPU",
    "colab": {
      "name": "NEU_AllCompiledTogether.ipynb",
      "provenance": [],
      "collapsed_sections": [],
      "mount_file_id": "1jCyTI9rJ9U6Wg_GiHXB7r-B8YxsJNIDV",
      "authorship_tag": "ABX9TyOsfGOJg9JKWp4wxJOOBTZh"
    },
    "kernelspec": {
      "display_name": "Python 3",
      "name": "python3"
    }
  },
  "cells": [
    {
      "cell_type": "markdown",
      "metadata": {
        "id": "yoQn7Dngg0X5"
      },
      "source": [
        "# Preprocessing and Dataset Preparation"
      ]
    },
    {
      "cell_type": "markdown",
      "metadata": {
        "id": "smd94n0K8DrN"
      },
      "source": [
        "The dataset had six classes, hence labels are from 0 to 5. Sc, Rs, PS etc were defect folders and Refined_NEU was the main folder"
      ]
    },
    {
      "cell_type": "code",
      "metadata": {
        "id": "YayHZIpzFXfa",
        "colab": {
          "base_uri": "https://localhost:8080/",
          "height": 228
        },
        "outputId": "7bfffd87-ea96-4201-869c-76ed3de6b922"
      },
      "source": [
        "import os\n",
        "import numpy as np\n",
        "directory = 'drive/My Drive/Refined_NEU/Sc/'\n",
        "count = 0\n",
        "from PIL import Image\n",
        "train_images = []\n",
        "train_labels = []\n",
        "for filename in os.listdir(directory):\n",
        " \n",
        "    if filename.endswith(\".bmp\"):\n",
        "      img = Image.open(directory + filename)\n",
        "       \n",
        "      newsize = (224, 224) \n",
        "      img = img.resize(newsize)\n",
        "      img_arr = np.array(img)        \n",
        "      train_images.append(img_arr)\n",
        "     \n",
        "      train_labels.append(0)\n",
        "      count+=1\n",
        "\n",
        "directory = 'drive/My Drive/Refined_NEU/RS/'\n",
        "\n",
        "for filename in os.listdir(directory):\n",
        "  \n",
        "    if filename.endswith(\".bmp\"):\n",
        "      img = Image.open(directory + filename)\n",
        "       \n",
        "      \n",
        "      img = img.resize(newsize)\n",
        "      img_arr = np.array(img)        \n",
        "      train_images.append(img_arr)\n",
        "     \n",
        "      train_labels.append(1)\n",
        "      count+=1\n",
        "\n",
        "directory = 'drive/My Drive/Refined_NEU/PS/'\n",
        "for filename in os.listdir(directory):\n",
        "    if filename.endswith(\".bmp\"):\n",
        "      img = Image.open(directory + filename)\n",
        "       \n",
        "      newsize = (224, 224) \n",
        "      img = img.resize(newsize)\n",
        "      img_arr = np.array(img)        \n",
        "      train_images.append(img_arr)\n",
        "     \n",
        "      train_labels.append(2)\n",
        "      count+=1\n",
        "\n",
        "\n",
        "directory = 'drive/My Drive/Refined_NEU/Pa/'\n",
        "for filename in os.listdir(directory):\n",
        "    if filename.endswith(\".bmp\"):\n",
        "      img = Image.open(directory + filename)\n",
        "       \n",
        "      newsize = (224, 224) \n",
        "      img = img.resize(newsize)\n",
        "      img_arr = np.array(img)        \n",
        "      train_images.append(img_arr)\n",
        "     \n",
        "      train_labels.append(3)\n",
        "      count+=1\n",
        "directory = 'drive/My Drive/Refined_NEU/In/'\n",
        "for filename in os.listdir(directory):\n",
        "    if filename.endswith(\".bmp\"):\n",
        "      img = Image.open(directory+ filename)\n",
        "       \n",
        "      newsize = (224, 224) \n",
        "      img = img.resize(newsize)\n",
        "      img_arr = np.array(img)        \n",
        "      train_images.append(img_arr)\n",
        "     \n",
        "      train_labels.append(4)\n",
        "      count+=1\n",
        "directory = 'drive/My Drive/Refined_NEU/Cr/'\n",
        "for filename in os.listdir(directory):\n",
        "    if filename.endswith(\".bmp\"):\n",
        "      img = Image.open(directory + filename)\n",
        "       \n",
        "      newsize = (224, 224) \n",
        "      img = img.resize(newsize)\n",
        "      img_arr = np.array(img)        \n",
        "      train_images.append(img_arr)\n",
        "     \n",
        "      train_labels.append(5)\n",
        "      count+=1"
      ],
      "execution_count": null,
      "outputs": [
        {
          "output_type": "error",
          "ename": "KeyboardInterrupt",
          "evalue": "ignored",
          "traceback": [
            "\u001b[0;31m---------------------------------------------------------------------------\u001b[0m",
            "\u001b[0;31mKeyboardInterrupt\u001b[0m                         Traceback (most recent call last)",
            "\u001b[0;32m<ipython-input-1-72ce83259a89>\u001b[0m in \u001b[0;36m<module>\u001b[0;34m()\u001b[0m\n\u001b[1;32m      6\u001b[0m \u001b[0mtrain_images\u001b[0m \u001b[0;34m=\u001b[0m \u001b[0;34m[\u001b[0m\u001b[0;34m]\u001b[0m\u001b[0;34m\u001b[0m\u001b[0;34m\u001b[0m\u001b[0m\n\u001b[1;32m      7\u001b[0m \u001b[0mtrain_labels\u001b[0m \u001b[0;34m=\u001b[0m \u001b[0;34m[\u001b[0m\u001b[0;34m]\u001b[0m\u001b[0;34m\u001b[0m\u001b[0;34m\u001b[0m\u001b[0m\n\u001b[0;32m----> 8\u001b[0;31m \u001b[0;32mfor\u001b[0m \u001b[0mfilename\u001b[0m \u001b[0;32min\u001b[0m \u001b[0mos\u001b[0m\u001b[0;34m.\u001b[0m\u001b[0mlistdir\u001b[0m\u001b[0;34m(\u001b[0m\u001b[0mdirectory\u001b[0m\u001b[0;34m)\u001b[0m\u001b[0;34m:\u001b[0m\u001b[0;34m\u001b[0m\u001b[0;34m\u001b[0m\u001b[0m\n\u001b[0m\u001b[1;32m      9\u001b[0m \u001b[0;34m\u001b[0m\u001b[0m\n\u001b[1;32m     10\u001b[0m     \u001b[0;32mif\u001b[0m \u001b[0mfilename\u001b[0m\u001b[0;34m.\u001b[0m\u001b[0mendswith\u001b[0m\u001b[0;34m(\u001b[0m\u001b[0;34m\".bmp\"\u001b[0m\u001b[0;34m)\u001b[0m\u001b[0;34m:\u001b[0m\u001b[0;34m\u001b[0m\u001b[0;34m\u001b[0m\u001b[0m\n",
            "\u001b[0;31mKeyboardInterrupt\u001b[0m: "
          ]
        }
      ]
    },
    {
      "cell_type": "code",
      "metadata": {
        "id": "VHc69k6JHsj_"
      },
      "source": [
        "import numpy as np\n",
        "from sklearn.model_selection import train_test_split\n",
        "train_images, test_images, train_labels, test_labels = train_test_split(train_images, train_labels, test_size=0.25, random_state=42)"
      ],
      "execution_count": null,
      "outputs": []
    },
    {
      "cell_type": "code",
      "metadata": {
        "id": "wxJQBlHRRVcs"
      },
      "source": [
        "np.savez(\"drive/My Drive/NEUconverted-\", train_images=train_images, test_images = test_images, train_labels = train_labels, test_labels = test_labels)"
      ],
      "execution_count": null,
      "outputs": []
    },
    {
      "cell_type": "markdown",
      "metadata": {
        "id": "-3cbm8ddid9J"
      },
      "source": [
        "# Three Model Levels"
      ]
    },
    {
      "cell_type": "code",
      "metadata": {
        "id": "DGzkSHP6bye2"
      },
      "source": [
        "import tensorflow as tf\r\n",
        "import matplotlib.pyplot as plt\r\n",
        "import numpy as np\r\n",
        "import pandas as pd\r\n",
        "import sklearn\r\n",
        "import keras\r\n",
        "from tensorflow.keras import datasets,models,layers\r\n",
        "from sklearn.neighbors import KNeighborsClassifier\r\n",
        "from sklearn.metrics import classification_report, confusion_matrix, accuracy_score\r\n",
        "from sklearn.model_selection import cross_val_score\r\n",
        "from keras.models import Sequential\r\n",
        "from keras.layers import Dense, Dropout, Flatten\r\n",
        "from keras.layers import Conv2D, MaxPooling2D, BatchNormalization\r\n",
        "from keras.preprocessing.image import ImageDataGenerator\r\n",
        "from keras import optimizers\r\n",
        "import matplotlib.pyplot as plt"
      ],
      "execution_count": null,
      "outputs": []
    },
    {
      "cell_type": "code",
      "metadata": {
        "id": "QLXDnUZ6fWWr"
      },
      "source": [
        "loaded = np.load(\"drive/My Drive/NEUconverted-.npz\") # dataset was stored as a compressed npz file containing four arrays, images were resized to 224*224\r\n",
        "train_images = loaded[\"train_images\"]\r\n",
        "train_labels = loaded[\"train_labels\"]\r\n",
        "test_images = loaded[\"test_images\"]\r\n",
        "test_labels = loaded[\"test_labels\"]"
      ],
      "execution_count": null,
      "outputs": []
    },
    {
      "cell_type": "code",
      "metadata": {
        "id": "Dbp_rp9Pf1Wq"
      },
      "source": [
        "from imgaug import augmenters as iaa\r\n",
        "level1 = iaa.Sequential([\r\n",
        "       iaa.GaussianBlur(sigma=(0, 1.0)) # blur images with a sigma of 0 to 3.0\r\n",
        "])\r\n",
        "\r\n",
        "level2 = iaa.Sequential([\r\n",
        "       iaa.GaussianBlur(sigma=(0, 3.0)) # blur images with a sigma of 0 to 3.0; can vary the variance for second level if required\r\n",
        "])"
      ],
      "execution_count": null,
      "outputs": []
    },
    {
      "cell_type": "code",
      "metadata": {
        "id": "0bBJE1K2fW1Y"
      },
      "source": [
        "images_aug1 = level1(images=train_images)\r\n",
        "images_aug2 = level2(images=images_aug1)"
      ],
      "execution_count": null,
      "outputs": []
    },
    {
      "cell_type": "markdown",
      "metadata": {
        "id": "Dr1R_FHgMxIq"
      },
      "source": [
        "#VGG Model1"
      ]
    },
    {
      "cell_type": "code",
      "metadata": {
        "id": "JuN0Fh8Ufeki",
        "colab": {
          "base_uri": "https://localhost:8080/"
        },
        "outputId": "cd51dc57-a983-44bd-ea9f-b610f8f8ccf4"
      },
      "source": [
        "# example of loading the vgg16 model\r\n",
        "from keras.applications.vgg16 import VGG16\r\n",
        "# load model\r\n",
        "base_model = VGG16(weights=\"imagenet\", include_top=False, input_tensor=keras.layers.Input(shape=(224, 224, 3)))"
      ],
      "execution_count": null,
      "outputs": [
        {
          "output_type": "stream",
          "text": [
            "Downloading data from https://storage.googleapis.com/tensorflow/keras-applications/vgg16/vgg16_weights_tf_dim_ordering_tf_kernels_notop.h5\n",
            "58892288/58889256 [==============================] - 1s 0us/step\n"
          ],
          "name": "stdout"
        }
      ]
    },
    {
      "cell_type": "code",
      "metadata": {
        "id": "Sq4NWRIbfgvx"
      },
      "source": [
        "ensemble_model1 = Sequential()\r\n",
        "for layer in base_model.layers[:-1]:\r\n",
        "    ensemble_model1.add(layer)"
      ],
      "execution_count": null,
      "outputs": []
    },
    {
      "cell_type": "code",
      "metadata": {
        "id": "1_p5kb2lfh-S"
      },
      "source": [
        "for layer in ensemble_model1.layers:\r\n",
        "    layer.trainable = False"
      ],
      "execution_count": null,
      "outputs": []
    },
    {
      "cell_type": "code",
      "metadata": {
        "id": "DmvcM8LCNKnM"
      },
      "source": [
        "ensemble_model1.add(Flatten())\r\n",
        "ensemble_model1.add(Dense(units=128, activation='relu'))\r\n",
        "ensemble_model1.add(Dense(units=6, activation='softmax'))"
      ],
      "execution_count": null,
      "outputs": []
    },
    {
      "cell_type": "code",
      "metadata": {
        "id": "2ZeWijL7Nxkt"
      },
      "source": [
        "ensemble_model1.compile(loss = 'categorical_crossentropy', optimizer = optimizers.Adam(0.0001), metrics = ['acc'])"
      ],
      "execution_count": null,
      "outputs": []
    },
    {
      "cell_type": "code",
      "metadata": {
        "id": "BurI6YXvS6Gx"
      },
      "source": [
        "train_labels = tf.keras.utils.to_categorical(train_labels, num_classes=6)"
      ],
      "execution_count": null,
      "outputs": []
    },
    {
      "cell_type": "code",
      "metadata": {
        "id": "IW3YKCbcVe1r"
      },
      "source": [
        "#images_aug1 = np.repeat(images_aug1[..., np.newaxis], 3, -1) \r\n",
        "#images_aug2 = np.repeat(images_aug2[..., np.newaxis], 3, -1)    #images_aug2 for third model\r\n",
        "test_images = np.repeat(test_images[..., np.newaxis], 3, -1)\r\n",
        "train_images = np.repeat(train_images[..., np.newaxis], 3, -1)"
      ],
      "execution_count": null,
      "outputs": []
    },
    {
      "cell_type": "code",
      "metadata": {
        "colab": {
          "base_uri": "https://localhost:8080/"
        },
        "id": "zv1IDlSqjuwn",
        "outputId": "33c300c2-c68d-490d-f70f-926633a2de86"
      },
      "source": [
        "\r\n",
        "tf.executing_eagerly()"
      ],
      "execution_count": null,
      "outputs": [
        {
          "output_type": "execute_result",
          "data": {
            "text/plain": [
              "True"
            ]
          },
          "metadata": {
            "tags": []
          },
          "execution_count": 15
        }
      ]
    },
    {
      "cell_type": "code",
      "metadata": {
        "colab": {
          "base_uri": "https://localhost:8080/"
        },
        "id": "sP_aWwjASsTT",
        "outputId": "9a951197-2ba3-4af1-a556-e8cf598ab0b1"
      },
      "source": [
        "np.random.seed(0)\r\n",
        "history =ensemble_model1.fit(train_images, train_labels, epochs=10, batch_size=8)        "
      ],
      "execution_count": null,
      "outputs": [
        {
          "output_type": "stream",
          "text": [
            "Epoch 1/10\n",
            "169/169 [==============================] - 8s 49ms/step - loss: 0.2181 - acc: 0.9496\n",
            "Epoch 2/10\n",
            "169/169 [==============================] - 8s 46ms/step - loss: 0.0182 - acc: 0.9956\n",
            "Epoch 3/10\n",
            "169/169 [==============================] - 8s 47ms/step - loss: 0.0022 - acc: 0.9985\n",
            "Epoch 4/10\n",
            "169/169 [==============================] - 8s 47ms/step - loss: 0.0010 - acc: 0.9993\n",
            "Epoch 5/10\n",
            "169/169 [==============================] - 8s 47ms/step - loss: 1.8304e-05 - acc: 1.0000\n",
            "Epoch 6/10\n",
            "169/169 [==============================] - 8s 48ms/step - loss: 1.2319e-06 - acc: 1.0000\n",
            "Epoch 7/10\n",
            "169/169 [==============================] - 8s 48ms/step - loss: 1.1429e-06 - acc: 1.0000\n",
            "Epoch 8/10\n",
            "169/169 [==============================] - 8s 49ms/step - loss: 1.0673e-06 - acc: 1.0000\n",
            "Epoch 9/10\n",
            "169/169 [==============================] - 8s 49ms/step - loss: 9.9883e-07 - acc: 1.0000\n",
            "Epoch 10/10\n",
            "169/169 [==============================] - 8s 50ms/step - loss: 9.3808e-07 - acc: 1.0000\n"
          ],
          "name": "stdout"
        }
      ]
    },
    {
      "cell_type": "code",
      "metadata": {
        "id": "ACi9LG01gHKi"
      },
      "source": [
        "test_labels = tf.keras.utils.to_categorical(test_labels, num_classes=6)"
      ],
      "execution_count": null,
      "outputs": []
    },
    {
      "cell_type": "code",
      "metadata": {
        "id": "Zi2s3aDjjPlw"
      },
      "source": [
        "ensemble_model1.evaluate(test_images, test_labels)"
      ],
      "execution_count": null,
      "outputs": []
    },
    {
      "cell_type": "code",
      "metadata": {
        "colab": {
          "base_uri": "https://localhost:8080/"
        },
        "id": "iRGmh1pKlkWX",
        "outputId": "2087bc80-5141-471b-8949-6cca80f804a2"
      },
      "source": [
        "ensemble_model1.save(\"drive/My Drive/ensemble_model1\")"
      ],
      "execution_count": null,
      "outputs": [
        {
          "output_type": "stream",
          "text": [
            "WARNING:tensorflow:From /usr/local/lib/python3.6/dist-packages/tensorflow/python/training/tracking/tracking.py:111: Model.state_updates (from tensorflow.python.keras.engine.training) is deprecated and will be removed in a future version.\n",
            "Instructions for updating:\n",
            "This property should not be used in TensorFlow 2.0, as updates are applied automatically.\n",
            "WARNING:tensorflow:From /usr/local/lib/python3.6/dist-packages/tensorflow/python/training/tracking/tracking.py:111: Layer.updates (from tensorflow.python.keras.engine.base_layer) is deprecated and will be removed in a future version.\n",
            "Instructions for updating:\n",
            "This property should not be used in TensorFlow 2.0, as updates are applied automatically.\n",
            "INFO:tensorflow:Assets written to: drive/My Drive/ensemble_model1/assets\n"
          ],
          "name": "stdout"
        }
      ]
    },
    {
      "cell_type": "markdown",
      "metadata": {
        "id": "1XD1dumfi2-R"
      },
      "source": [
        "# Model 2"
      ]
    },
    {
      "cell_type": "code",
      "metadata": {
        "id": "-i_lHby_i6gP"
      },
      "source": [
        "ensemble_model2 = Sequential()\r\n",
        "for layer in base_model.layers[:-1]:\r\n",
        "    ensemble_model2.add(layer)"
      ],
      "execution_count": null,
      "outputs": []
    },
    {
      "cell_type": "code",
      "metadata": {
        "id": "_oRUs_Pri6gQ"
      },
      "source": [
        "for layer in ensemble_model2.layers:\r\n",
        "    layer.trainable = False"
      ],
      "execution_count": null,
      "outputs": []
    },
    {
      "cell_type": "code",
      "metadata": {
        "id": "Gq387_QLi6gR"
      },
      "source": [
        "ensemble_model2.add(Flatten())\r\n",
        "ensemble_model2.add(Dense(units=128, activation='relu'))\r\n",
        "ensemble_model2.add(Dense(units=6, activation='softmax'))"
      ],
      "execution_count": null,
      "outputs": []
    },
    {
      "cell_type": "code",
      "metadata": {
        "id": "rw_lIiKji6gS"
      },
      "source": [
        "ensemble_model2.compile(loss = 'categorical_crossentropy', optimizer = optimizers.RMSprop(0.0001), metrics = ['acc'])"
      ],
      "execution_count": null,
      "outputs": []
    },
    {
      "cell_type": "code",
      "metadata": {
        "id": "ot6jbCSAi6gU"
      },
      "source": [
        "tf.executing_eagerly()\r\n",
        "np.random.seed(2)"
      ],
      "execution_count": null,
      "outputs": []
    },
    {
      "cell_type": "code",
      "metadata": {
        "colab": {
          "base_uri": "https://localhost:8080/"
        },
        "id": "E1THUYhai6gU",
        "outputId": "0311d074-04f0-4c37-bbbe-32fc9ee0dfe2"
      },
      "source": [
        "history = ensemble_model2.fit(images_aug1, train_labels, epochs=10, batch_size=8)          #use images_aug2 for third model, train_images for basic/first model"
      ],
      "execution_count": null,
      "outputs": [
        {
          "output_type": "stream",
          "text": [
            "Epoch 1/10\n",
            "169/169 [==============================] - 9s 51ms/step - loss: 0.3221 - acc: 0.9348\n",
            "Epoch 2/10\n",
            "169/169 [==============================] - 9s 51ms/step - loss: 0.0199 - acc: 0.9970\n",
            "Epoch 3/10\n",
            "169/169 [==============================] - 9s 52ms/step - loss: 0.0013 - acc: 0.9985\n",
            "Epoch 4/10\n",
            "169/169 [==============================] - 9s 52ms/step - loss: 0.0026 - acc: 0.9993\n",
            "Epoch 5/10\n",
            "169/169 [==============================] - 9s 53ms/step - loss: 0.0010 - acc: 0.9993\n",
            "Epoch 6/10\n",
            "169/169 [==============================] - 9s 53ms/step - loss: 0.0012 - acc: 0.9993\n",
            "Epoch 7/10\n",
            "169/169 [==============================] - 9s 53ms/step - loss: 1.5453e-08 - acc: 1.0000\n",
            "Epoch 8/10\n",
            "169/169 [==============================] - 9s 53ms/step - loss: 7.0643e-10 - acc: 1.0000\n",
            "Epoch 9/10\n",
            "169/169 [==============================] - 9s 52ms/step - loss: 0.0000e+00 - acc: 1.0000\n",
            "Epoch 10/10\n",
            "169/169 [==============================] - 9s 52ms/step - loss: 8.8303e-11 - acc: 1.0000\n"
          ],
          "name": "stdout"
        }
      ]
    },
    {
      "cell_type": "code",
      "metadata": {
        "colab": {
          "base_uri": "https://localhost:8080/"
        },
        "id": "gRvON7vFi6gV",
        "outputId": "c5b47922-b971-4d16-f0a9-aa1457c735c3"
      },
      "source": [
        "ensemble_model2.evaluate(test_images, test_labels)"
      ],
      "execution_count": null,
      "outputs": [
        {
          "output_type": "stream",
          "text": [
            "15/15 [==============================] - 2s 108ms/step - loss: 0.0047 - acc: 0.9978\n"
          ],
          "name": "stdout"
        },
        {
          "output_type": "execute_result",
          "data": {
            "text/plain": [
              "[0.004666169639676809, 0.9977777600288391]"
            ]
          },
          "metadata": {
            "tags": []
          },
          "execution_count": 26
        }
      ]
    },
    {
      "cell_type": "code",
      "metadata": {
        "colab": {
          "base_uri": "https://localhost:8080/"
        },
        "id": "8TJ8Q4y5lvqO",
        "outputId": "65a5def1-816b-491f-ce24-fcffd8447275"
      },
      "source": [
        "ensemble_model2.save(\"drive/My Drive/ensemble_model2\")"
      ],
      "execution_count": null,
      "outputs": [
        {
          "output_type": "stream",
          "text": [
            "INFO:tensorflow:Assets written to: drive/My Drive/ensemble_model2/assets\n"
          ],
          "name": "stdout"
        }
      ]
    },
    {
      "cell_type": "markdown",
      "metadata": {
        "id": "G6PWwf7wjMZS"
      },
      "source": [
        "# Model 3"
      ]
    },
    {
      "cell_type": "code",
      "metadata": {
        "id": "9Dcygc4ijTfx"
      },
      "source": [
        "ensemble_model3 = Sequential()\r\n",
        "for layer in base_model.layers[:-1]:\r\n",
        "    ensemble_model3.add(layer)"
      ],
      "execution_count": null,
      "outputs": []
    },
    {
      "cell_type": "code",
      "metadata": {
        "id": "Kc6mq_MXjTfy"
      },
      "source": [
        "for layer in ensemble_model3.layers:\r\n",
        "    layer.trainable = False"
      ],
      "execution_count": null,
      "outputs": []
    },
    {
      "cell_type": "code",
      "metadata": {
        "id": "I57sHYnPjTfy"
      },
      "source": [
        "ensemble_model3.add(Flatten())\r\n",
        "ensemble_model3.add(Dense(units=128, activation='relu'))\r\n",
        "ensemble_model3.add(Dense(units=6, activation='softmax'))"
      ],
      "execution_count": null,
      "outputs": []
    },
    {
      "cell_type": "code",
      "metadata": {
        "id": "En5D7VpDjTfy"
      },
      "source": [
        "ensemble_model3.compile(loss = 'categorical_crossentropy', optimizer = optimizers.RMSprop(0.0001), metrics = ['acc'])"
      ],
      "execution_count": null,
      "outputs": []
    },
    {
      "cell_type": "code",
      "metadata": {
        "id": "KGzxk1HFjTfz"
      },
      "source": [
        "tf.executing_eagerly()\r\n",
        "np.random.seed(1)"
      ],
      "execution_count": null,
      "outputs": []
    },
    {
      "cell_type": "code",
      "metadata": {
        "colab": {
          "base_uri": "https://localhost:8080/"
        },
        "id": "lXSVpGhXjTfz",
        "outputId": "bba9f441-52a3-425b-e8bf-716385912c9c"
      },
      "source": [
        "history =ensemble_model3.fit(images_aug2, train_labels, epochs=10, batch_size=8)         "
      ],
      "execution_count": null,
      "outputs": [
        {
          "output_type": "stream",
          "text": [
            "Epoch 1/10\n",
            "169/169 [==============================] - 9s 52ms/step - loss: 0.5285 - acc: 0.9037\n",
            "Epoch 2/10\n",
            "169/169 [==============================] - 9s 52ms/step - loss: 0.0542 - acc: 0.9919\n",
            "Epoch 3/10\n",
            "169/169 [==============================] - 9s 53ms/step - loss: 0.0212 - acc: 0.9963\n",
            "Epoch 4/10\n",
            "169/169 [==============================] - 9s 53ms/step - loss: 0.0027 - acc: 0.9993\n",
            "Epoch 5/10\n",
            "169/169 [==============================] - 9s 53ms/step - loss: 0.0063 - acc: 0.9993\n",
            "Epoch 6/10\n",
            "169/169 [==============================] - 9s 52ms/step - loss: 1.6071e-08 - acc: 1.0000\n",
            "Epoch 7/10\n",
            "169/169 [==============================] - 9s 52ms/step - loss: 3.1789e-09 - acc: 1.0000\n",
            "Epoch 8/10\n",
            "169/169 [==============================] - 9s 52ms/step - loss: 2.6491e-10 - acc: 1.0000\n",
            "Epoch 9/10\n",
            "169/169 [==============================] - 9s 52ms/step - loss: 0.0000e+00 - acc: 1.0000\n",
            "Epoch 10/10\n",
            "169/169 [==============================] - 9s 52ms/step - loss: 0.0000e+00 - acc: 1.0000\n"
          ],
          "name": "stdout"
        }
      ]
    },
    {
      "cell_type": "code",
      "metadata": {
        "colab": {
          "base_uri": "https://localhost:8080/"
        },
        "id": "V-cgHeoajTf0",
        "outputId": "0d92ca61-607c-4d35-9093-3e6c0f760e6a"
      },
      "source": [
        "ensemble_model3.evaluate(test_images, test_labels)"
      ],
      "execution_count": null,
      "outputs": [
        {
          "output_type": "stream",
          "text": [
            "15/15 [==============================] - 2s 108ms/step - loss: 0.0430 - acc: 0.9889\n"
          ],
          "name": "stdout"
        },
        {
          "output_type": "execute_result",
          "data": {
            "text/plain": [
              "[0.04304170235991478, 0.9888888597488403]"
            ]
          },
          "metadata": {
            "tags": []
          },
          "execution_count": 34
        }
      ]
    },
    {
      "cell_type": "code",
      "metadata": {
        "colab": {
          "base_uri": "https://localhost:8080/"
        },
        "id": "cl1uZ4aGlyek",
        "outputId": "778356e2-e2b8-48a9-97f4-8a96c61bcbe8"
      },
      "source": [
        "ensemble_model2.save(\"drive/My Drive/ensemble_model3\")"
      ],
      "execution_count": null,
      "outputs": [
        {
          "output_type": "stream",
          "text": [
            "INFO:tensorflow:Assets written to: drive/My Drive/ensemble_model3/assets\n"
          ],
          "name": "stdout"
        }
      ]
    },
    {
      "cell_type": "markdown",
      "metadata": {
        "id": "p-r0xXFjg9FJ"
      },
      "source": [
        "# Fusion Using GA Weighted Ensemble : Weighted Voting"
      ]
    },
    {
      "cell_type": "code",
      "metadata": {
        "id": "woMRy_MppWFh"
      },
      "source": [
        "def weighted_ensemble(weights, models, inputs):\n",
        "    # Assigning empty array to store 2D array of model predictions\n",
        "    predictions = []\n",
        "    predictionsSum = 0\n",
        "  \n",
        "    # Loop through all models\n",
        "\n",
        "    for i in range(len(models)):\n",
        "       labels = models[i].predict(inputs)\n",
        "\n",
        "       predictions.append(labels)\n",
        "       predictionsSum += (labels*weights[i])\n",
        "      \n",
        "      \n",
        "\n",
        "    # Sum of weighted predictions\n",
        "    predictions[i] = [x * weights[i] for x in predictions[i]]\n",
        "                      \n",
        "    return predictionsSum"
      ],
      "execution_count": null,
      "outputs": []
    },
    {
      "cell_type": "code",
      "metadata": {
        "id": "UMW32Hocpnjy"
      },
      "source": [
        "import numpy as np\n",
        "\n",
        "def cal_pop_fitness(fitness_func, pop):\n",
        "    \n",
        "    fitness = fitness_func(pop)\n",
        "    return fitness\n",
        "\n",
        "\n",
        "def select_mating_pool(pop, fitness, num_parents):\n",
        "    # Selecting the best individuals in the current generation as parents for producing the offspring of the next\n",
        "    # #generation.\n",
        "    \n",
        "    parents = np.empty((num_parents, pop.shape[1]))\n",
        "    for parent_num in range(num_parents):\n",
        "        max_fitness_idx = np.where(fitness == np.min(fitness))\n",
        "        max_fitness_idx = max_fitness_idx[0][0]\n",
        "        parents[parent_num, :] = pop[max_fitness_idx, :]\n",
        "        fitness[max_fitness_idx] = -99999999999\n",
        "        print(parents.shape)\n",
        "    return parents\n",
        "\n",
        "\n",
        "def crossover(parents, offspring_size):\n",
        "    offspring = np.empty(offspring_size)\n",
        "    # The point at which crossover takes place between two parents. Usually it is at the center.\n",
        "    crossover_point = np.uint8(offspring_size[1]/2)\n",
        "\n",
        "    for k in range(offspring_size[0]):\n",
        "        # Index of the first parent to mate.\n",
        "        parent1_idx = k % parents.shape[0]\n",
        "        # Index of the second parent to mate.\n",
        "        parent2_idx = (k+1) % parents.shape[0]\n",
        "        # The new offspring will have its first half of its genes taken from the first parent.\n",
        "        offspring[k, 0:crossover_point] = parents[parent1_idx, 0:crossover_point]\n",
        "        # The new offspring will have its second half of its genes taken from the second parent.\n",
        "        offspring[k, crossover_point:] = parents[parent2_idx, crossover_point:]\n",
        "    return offspring\n",
        "\n",
        "\n",
        "def mutation(offspring_crossover):\n",
        "    # Mutation changes a single gene in each offspring randomly.\n",
        "    for idx in range(offspring_crossover.shape[0]):\n",
        "        # The random value to be added to the gene.\n",
        "        random_value = np.random.uniform(0, 1, 1)\n",
        "        offspring_crossover[idx-1, offspring_crossover.shape[0]-1] = \\\n",
        "            offspring_crossover[idx-1, offspring_crossover.shape[0]-1] + random_value\n",
        "    return offspring_crossover"
      ],
      "execution_count": null,
      "outputs": []
    },
    {
      "cell_type": "code",
      "metadata": {
        "id": "NL4mv6UcpWKq"
      },
      "source": [
        "def ensemble_fitness(weights, models, inputs, targets, value):\n",
        "    import numpy as np\n",
        "    import sklearn\n",
        "    from sklearn import linear_model\n",
        "    from sklearn import metrics\n",
        "    \n",
        "\n",
        "    fitness = []\n",
        "\n",
        "    # Normalise weights\n",
        "    weights = sklearn.preprocessing.normalize(weights, axis=1, norm='l1')\n",
        "\n",
        "    for i in range(len(weights)):\n",
        "        predictionsSum = weighted_ensemble(weights[i-1], models, inputs)\n",
        "\n",
        "        # Calculating bias and variance for use in error if selected\n",
        "        bias = (np.mean(predictionsSum)-np.mean(targets))**2\n",
        "        variance = np.var(predictionsSum-targets)\n",
        "\n",
        "        # Setting output fitness value\n",
        "        if value == \"mse\":\n",
        "            ensembleFit = metrics.mean_squared_error(predictionsSum, targets)\n",
        "        elif value == \"mae\":\n",
        "            ensembleFit = metrics.mean_absolute_error(predictionsSum, targets)\n",
        "        elif value == \"bias\":\n",
        "            ensembleFit = bias\n",
        "        elif value == \"variance\":\n",
        "            ensembleFit = variance\n",
        "        elif value == \"error\":\n",
        "            ensembleFit = bias+variance\n",
        "        elif value == \"log_loss\":\n",
        "            ensembleFit = metrics.log_loss()\n",
        "        else:\n",
        "            # If error with input then set it to mse as default\n",
        "            ensembleFit = metrics.mean_squared_error(predictionsSum, targets)\n",
        "\n",
        "        fitness.append(ensembleFit)\n",
        "\n",
        "    # Returning fitness value to minimise\n",
        "    return fitness"
      ],
      "execution_count": null,
      "outputs": []
    },
    {
      "cell_type": "code",
      "metadata": {
        "id": "FO5z63Qx3VhE"
      },
      "source": [
        "models = []\n",
        "models.append(ensemble_model1)\n",
        "models.append(ensemble_model2)\n",
        "models.append(ensemble_model3)\n"
      ],
      "execution_count": null,
      "outputs": []
    },
    {
      "cell_type": "code",
      "metadata": {
        "id": "2YpDxa8GoiS1"
      },
      "source": [
        "# Create objective function\n",
        "objective_function = lambda w: ensemble_fitness(w, models, test_images, test_labels, 'mse')"
      ],
      "execution_count": null,
      "outputs": []
    },
    {
      "cell_type": "code",
      "metadata": {
        "colab": {
          "base_uri": "https://localhost:8080/"
        },
        "id": "_rZpOArUoiS3",
        "outputId": "05c2c9ff-4c39-4035-85ba-5282e6edfd11"
      },
      "source": [
        "# Set Genetic Algorithm parameters\n",
        "sol_per_pop = 6\n",
        "num_parents_mating = 3 \n",
        "# Defining population size\n",
        "pop_size = (sol_per_pop, len(models))\n",
        "print(pop_size)\n",
        "# Creating the initial population\n",
        "\n",
        "new_population = np.random.uniform(low=0, high=1, size=pop_size)\n",
        "print(new_population)"
      ],
      "execution_count": null,
      "outputs": [
        {
          "output_type": "stream",
          "text": [
            "(6, 3)\n",
            "[[4.17022005e-01 7.20324493e-01 1.14374817e-04]\n",
            " [3.02332573e-01 1.46755891e-01 9.23385948e-02]\n",
            " [1.86260211e-01 3.45560727e-01 3.96767474e-01]\n",
            " [5.38816734e-01 4.19194514e-01 6.85219500e-01]\n",
            " [2.04452250e-01 8.78117436e-01 2.73875932e-02]\n",
            " [6.70467510e-01 4.17304802e-01 5.58689828e-01]]\n"
          ],
          "name": "stdout"
        }
      ]
    },
    {
      "cell_type": "code",
      "metadata": {
        "colab": {
          "base_uri": "https://localhost:8080/"
        },
        "id": "4KdkmEcjdU-X",
        "outputId": "60eb1c55-a706-4ccb-a1a8-f9a5d534e096"
      },
      "source": [
        "for generation in range(30):\n",
        "    print(\"Generation: \", generation)\n",
        "    # Measuring the fitness of each chromosome in the population\n",
        "    fitness = cal_pop_fitness(objective_function, new_population)\n",
        "\n",
        "    # Selecting the best parents in the population for mating\n",
        "    parents = select_mating_pool(new_population, fitness, num_parents_mating)\n",
        "\n",
        "    # Generating next generation using crossover\n",
        "    offspring_crossover = crossover(parents, offspring_size=(parents.shape[0], len(models)))\n",
        "\n",
        "    # Adding some variations to the offspring using mutation\n",
        "    offspring_mutation = mutation(offspring_crossover)\n",
        "\n",
        "    # Creating the new population based on the parents and offspring\n",
        "    new_population[0:parents.shape[0], :] = parents\n",
        "    new_population[parents.shape[0]:, :] = offspring_mutation\n",
        "\n",
        "    # The best result in the current iteration\n",
        "    #print(\"NOTHING\")\n",
        "    print(\"FITNESS VALUE:\", fitness)"
      ],
      "execution_count": null,
      "outputs": [
        {
          "output_type": "stream",
          "text": [
            "Generation:  0\n",
            "(3, 3)\n",
            "(3, 3)\n",
            "(3, 3)\n",
            "FITNESS VALUE: [0.0010448471, 0.0005954858, 0.00092597405, 0.0010523122, 0.0011356473, -99999999999]\n",
            "Generation:  1\n",
            "(3, 3)\n",
            "(3, 3)\n",
            "(3, 3)\n",
            "FITNESS VALUE: [0.0011240622, -99999999999, 0.0010448471, 0.0010448471, 0.0011561204, 0.001453308]\n",
            "Generation:  2\n",
            "(3, 3)\n",
            "(3, 3)\n",
            "(3, 3)\n",
            "FITNESS VALUE: [0.001522527, -99999999999, 0.0010448471, 0.0010448471, 0.001218648, 0.0014054592]\n",
            "Generation:  3\n",
            "(3, 3)\n",
            "(3, 3)\n",
            "(3, 3)\n",
            "FITNESS VALUE: [0.0014852564, -99999999999, 0.0010448471, 0.0010448471, 0.0014927784, 0.0010929717]\n",
            "Generation:  4\n",
            "(3, 3)\n",
            "(3, 3)\n",
            "(3, 3)\n",
            "FITNESS VALUE: [0.0010669698, -99999999999, 0.0010448471, 0.0010448471, 0.0011404712, 0.0014859834]\n",
            "Generation:  5\n",
            "(3, 3)\n",
            "(3, 3)\n",
            "(3, 3)\n",
            "FITNESS VALUE: [0.0011004694, -99999999999, 0.0010448471, 0.0010448471, 0.0012748032, 0.0015184014]\n",
            "Generation:  6\n",
            "(3, 3)\n",
            "(3, 3)\n",
            "(3, 3)\n",
            "FITNESS VALUE: [0.0013306959, -99999999999, 0.0010448471, 0.0010448471, 0.0014052574, 0.0012197603]\n",
            "Generation:  7\n",
            "(3, 3)\n",
            "(3, 3)\n",
            "(3, 3)\n",
            "FITNESS VALUE: [0.0014028199, -99999999999, 0.0010448471, 0.0010448471, 0.001467761, 0.0010552066]\n",
            "Generation:  8\n",
            "(3, 3)\n",
            "(3, 3)\n",
            "(3, 3)\n",
            "FITNESS VALUE: [0.001431283, -99999999999, 0.0010448471, 0.0010448471, 0.0015306594, 0.0014304108]\n",
            "Generation:  9\n",
            "(3, 3)\n",
            "(3, 3)\n",
            "(3, 3)\n",
            "FITNESS VALUE: [0.0012010009, -99999999999, 0.0010448471, 0.0010448471, 0.0014483639, 0.0011032162]\n",
            "Generation:  10\n",
            "(3, 3)\n",
            "(3, 3)\n",
            "(3, 3)\n",
            "FITNESS VALUE: [0.0012884052, -99999999999, 0.0010448471, 0.0010448471, 0.0014985101, 0.0012080718]\n",
            "Generation:  11\n",
            "(3, 3)\n",
            "(3, 3)\n",
            "(3, 3)\n",
            "FITNESS VALUE: [0.001204941, -99999999999, 0.0010448471, 0.0010448471, 0.0011182656, 0.0010558177]\n",
            "Generation:  12\n",
            "(3, 3)\n",
            "(3, 3)\n",
            "(3, 3)\n",
            "FITNESS VALUE: [0.0013993339, -99999999999, 0.0010448471, 0.0010448471, 0.0011635675, 0.0011929652]\n",
            "Generation:  13\n",
            "(3, 3)\n",
            "(3, 3)\n",
            "(3, 3)\n",
            "FITNESS VALUE: [0.0013102618, -99999999999, 0.0010448471, 0.0010448471, 0.0010750693, 0.0013504531]\n",
            "Generation:  14\n",
            "(3, 3)\n",
            "(3, 3)\n",
            "(3, 3)\n",
            "FITNESS VALUE: [0.0011276053, -99999999999, 0.0010448471, 0.0010448471, 0.0013576886, 0.0014088196]\n",
            "Generation:  15\n",
            "(3, 3)\n",
            "(3, 3)\n",
            "(3, 3)\n",
            "FITNESS VALUE: [0.0011027143, -99999999999, 0.0010448471, 0.0010448471, 0.0012711975, 0.0014063991]\n",
            "Generation:  16\n",
            "(3, 3)\n",
            "(3, 3)\n",
            "(3, 3)\n",
            "FITNESS VALUE: [0.0012712606, -99999999999, 0.0010448471, 0.0010448471, 0.0010731401, 0.0013320249]\n",
            "Generation:  17\n",
            "(3, 3)\n",
            "(3, 3)\n",
            "(3, 3)\n",
            "FITNESS VALUE: [0.0013924575, -99999999999, 0.0010448471, 0.0010448471, 0.0013217625, 0.0015130831]\n",
            "Generation:  18\n",
            "(3, 3)\n",
            "(3, 3)\n",
            "(3, 3)\n",
            "FITNESS VALUE: [0.0013563819, -99999999999, 0.0010448471, 0.0010448471, 0.0014963867, 0.0011224337]\n",
            "Generation:  19\n",
            "(3, 3)\n",
            "(3, 3)\n",
            "(3, 3)\n",
            "FITNESS VALUE: [0.0011234413, -99999999999, 0.0010448471, 0.0010448471, 0.001456162, 0.0012627828]\n",
            "Generation:  20\n",
            "(3, 3)\n",
            "(3, 3)\n",
            "(3, 3)\n",
            "FITNESS VALUE: [0.0011379835, -99999999999, 0.0010448471, 0.0010448471, 0.0015061978, 0.0012368062]\n",
            "Generation:  21\n",
            "(3, 3)\n",
            "(3, 3)\n",
            "(3, 3)\n",
            "FITNESS VALUE: [0.0014315769, -99999999999, 0.0010448471, 0.0010448471, 0.0014205845, 0.0014881202]\n",
            "Generation:  22\n",
            "(3, 3)\n",
            "(3, 3)\n",
            "(3, 3)\n",
            "FITNESS VALUE: [0.0013738776, -99999999999, 0.0010448471, 0.0010448471, 0.0014316343, 0.0012374012]\n",
            "Generation:  23\n",
            "(3, 3)\n",
            "(3, 3)\n",
            "(3, 3)\n",
            "FITNESS VALUE: [0.0011953325, -99999999999, 0.0010448471, 0.0010448471, 0.0014933044, 0.0012783639]\n",
            "Generation:  24\n",
            "(3, 3)\n",
            "(3, 3)\n",
            "(3, 3)\n",
            "FITNESS VALUE: [0.0015211683, -99999999999, 0.0010448471, 0.0010448471, 0.0013922952, 0.0013729534]\n",
            "Generation:  25\n",
            "(3, 3)\n",
            "(3, 3)\n",
            "(3, 3)\n",
            "FITNESS VALUE: [0.0011096927, -99999999999, 0.0010448471, 0.0010448471, 0.0015150452, 0.0012894241]\n",
            "Generation:  26\n",
            "(3, 3)\n",
            "(3, 3)\n",
            "(3, 3)\n",
            "FITNESS VALUE: [0.0013524932, -99999999999, 0.0010448471, 0.0010448471, 0.001268163, 0.001177475]\n",
            "Generation:  27\n",
            "(3, 3)\n",
            "(3, 3)\n",
            "(3, 3)\n",
            "FITNESS VALUE: [0.0014963775, -99999999999, 0.0010448471, 0.0010448471, 0.0013502436, 0.0010464727]\n",
            "Generation:  28\n",
            "(3, 3)\n",
            "(3, 3)\n",
            "(3, 3)\n",
            "FITNESS VALUE: [0.0013708224, -99999999999, 0.0010448471, 0.0010448471, 0.0012256653, 0.001327719]\n",
            "Generation:  29\n",
            "(3, 3)\n",
            "(3, 3)\n",
            "(3, 3)\n",
            "FITNESS VALUE: [0.0014892091, -99999999999, 0.0010448471, 0.0010448471, 0.001241791, 0.0014984854]\n"
          ],
          "name": "stdout"
        }
      ]
    },
    {
      "cell_type": "code",
      "metadata": {
        "colab": {
          "base_uri": "https://localhost:8080/"
        },
        "id": "tuc0kIhmoiS8",
        "outputId": "7169bb7a-3016-4324-d638-c8d50a003b36"
      },
      "source": [
        "# Get the best solution after all generations\n",
        "fitness = cal_pop_fitness(objective_function, new_population)\n",
        "# Return the index of that solution and corresponding best fitness\n",
        "best_match_idx = np.where(fitness == np.min(fitness))\n",
        "best_match = list(best_match_idx[0])\n",
        "print(best_match)\n",
        "print(fitness)"
      ],
      "execution_count": null,
      "outputs": [
        {
          "output_type": "stream",
          "text": [
            "[1, 2, 3]\n",
            "[0.0013737316, 0.0010448471, 0.0010448471, 0.0010448471, 0.0010538091, 0.0015069781]\n"
          ],
          "name": "stdout"
        }
      ]
    },
    {
      "cell_type": "code",
      "metadata": {
        "colab": {
          "base_uri": "https://localhost:8080/",
          "height": 265
        },
        "id": "Z6v2qL7Phg_a",
        "outputId": "c5d473bb-c928-46b1-d148-089ae53fd88b"
      },
      "source": [
        "# Return weights\r\n",
        "import matplotlib.pyplot as pyplot\r\n",
        "\r\n",
        "weights = new_population[int(best_match[0])]\r\n",
        "# Display optimised network ensemble accuracy details\r\n",
        "results = weighted_ensemble(weights, models, test_images)\r\n",
        "pyplot.scatter(results, test_labels)\r\n",
        "pyplot.show()"
      ],
      "execution_count": null,
      "outputs": [
        {
          "output_type": "display_data",
          "data": {
            "image/png": "[encoded data removed]",
            "text/plain": [
              "<Figure size 432x288 with 1 Axes>"
            ]
          },
          "metadata": {
            "tags": [],
            "needs_background": "light"
          }
        }
      ]
    },
    {
      "cell_type": "code",
      "metadata": {
        "id": "mnfv1i8niPfR"
      },
      "source": [
        "weights = new_population[int(best_match[0])]"
      ],
      "execution_count": null,
      "outputs": []
    },
    {
      "cell_type": "code",
      "metadata": {
        "id": "1FNQxkG-iVYb"
      },
      "source": [
        "i=0\r\n",
        "sum = 0.00\r\n",
        "while(i<3):\r\n",
        "  sum+= (models[i].predict(test_images))* weights[i]\r\n",
        "  i+=1"
      ],
      "execution_count": null,
      "outputs": []
    },
    {
      "cell_type": "markdown",
      "metadata": {
        "id": "KMomLpmTkLts"
      },
      "source": [
        "# Evaluation of Final Results"
      ]
    },
    {
      "cell_type": "code",
      "metadata": {
        "id": "fPN5h0eFiWph"
      },
      "source": [
        "final = np.argmax(sum/(np.sum(weights)), axis = 1)"
      ],
      "execution_count": null,
      "outputs": []
    },
    {
      "cell_type": "code",
      "metadata": {
        "id": "QvXtVtNm7Xxu"
      },
      "source": [
        "test_labels = loaded[\"test_labels\"]     #not using one hot encoded ones "
      ],
      "execution_count": null,
      "outputs": []
    },
    {
      "cell_type": "code",
      "metadata": {
        "colab": {
          "base_uri": "https://localhost:8080/"
        },
        "id": "49lNsETNiZzh",
        "outputId": "e5ff0c25-26da-4b6a-ba1c-0b1e5ae7732f"
      },
      "source": [
        "from sklearn.metrics import accuracy_score\r\n",
        "accuracy_score(final, test_labels)"
      ],
      "execution_count": null,
      "outputs": [
        {
          "output_type": "execute_result",
          "data": {
            "text/plain": [
              "0.9955555555555555"
            ]
          },
          "metadata": {
            "tags": []
          },
          "execution_count": 49
        }
      ]
    },
    {
      "cell_type": "code",
      "metadata": {
        "id": "-hMeGfIclDw_"
      },
      "source": [
        "import matplotlib.pyplot as plt\r\n",
        "\r\n",
        "def plot_confusion_matrix(cm, classes,\r\n",
        "                        normalize=False,\r\n",
        "                        title='Confusion matrix',\r\n",
        "                        cmap=plt.cm.Blues):\r\n",
        "    \"\"\"\r\n",
        "    This function prints and plots the confusion matrix.\r\n",
        "    Normalization can be applied by setting `normalize=True`.\r\n",
        "    \"\"\"\r\n",
        "    plt.figure(figsize=(40, 40)) \r\n",
        "    plt.imshow(cm, interpolation='nearest', cmap=cmap)\r\n",
        "    plt.title(title)\r\n",
        "    plt.colorbar()\r\n",
        "    tick_marks = np.arange(len(classes))\r\n",
        "    plt.xticks(tick_marks, classes, rotation=45)\r\n",
        "    plt.yticks(tick_marks, classes)\r\n",
        "\r\n",
        "    if normalize:\r\n",
        "        cm = cm.astype('float') / cm.sum(axis=1)[:, np.newaxis]\r\n",
        "        print(\"Normalized confusion matrix\")\r\n",
        "    else:\r\n",
        "        print('Confusion matrix, without normalization')\r\n",
        "\r\n",
        "    print(cm)\r\n",
        "\r\n",
        "    thresh = cm.max() / 2.\r\n",
        "    for i, j in itertools.product(range(cm.shape[0]), range(cm.shape[1])):\r\n",
        "        plt.text(j, i, cm[i, j],\r\n",
        "            horizontalalignment=\"center\",\r\n",
        "            color=\"white\" if cm[i, j] > thresh else \"black\")\r\n",
        "\r\n",
        "    plt.ylabel('True label')\r\n",
        "    plt.xlabel('Predicted label')"
      ],
      "execution_count": null,
      "outputs": []
    },
    {
      "cell_type": "code",
      "metadata": {
        "colab": {
          "base_uri": "https://localhost:8080/",
          "height": 1000
        },
        "id": "EmveCNLglEZB",
        "outputId": "69237df7-6ded-476f-e416-702ad301f276"
      },
      "source": [
        "%matplotlib inline\r\n",
        "\r\n",
        "import itertools\r\n",
        "import matplotlib.pyplot as plt\r\n",
        "from sklearn.metrics import confusion_matrix\r\n",
        "cm_plot_labels = ['Sc', 'RS', 'PS', 'Pa', 'In', 'Cr']\r\n",
        "cm= confusion_matrix(y_true = test_labels, y_pred = final)\r\n",
        "\r\n",
        "plot_confusion_matrix(cm=cm, classes=cm_plot_labels, title='Confusion Matrix', normalize = True)"
      ],
      "execution_count": null,
      "outputs": [
        {
          "output_type": "stream",
          "text": [
            "Normalized confusion matrix\n",
            "[[0.98507463 0.         0.         0.         0.01492537 0.        ]\n",
            " [0.         1.         0.         0.         0.         0.        ]\n",
            " [0.         0.         1.         0.         0.         0.        ]\n",
            " [0.         0.         0.         0.98507463 0.         0.01492537]\n",
            " [0.         0.         0.         0.         1.         0.        ]\n",
            " [0.         0.         0.         0.         0.         1.        ]]\n"
          ],
          "name": "stdout"
        },
        {
          "output_type": "display_data",
          "data": {
            "image/png": "[encoded data removed]",
            "text/plain": [
              "<Figure size 2880x2880 with 2 Axes>"
            ]
          },
          "metadata": {
            "tags": [],
            "needs_background": "light"
          }
        }
      ]
    }
  ]
}