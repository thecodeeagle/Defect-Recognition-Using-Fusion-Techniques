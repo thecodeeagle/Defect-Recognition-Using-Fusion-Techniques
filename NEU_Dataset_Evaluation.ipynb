{
  "nbformat": 4,
  "nbformat_minor": 0,
  "metadata": {
    "accelerator": "GPU",
    "colab": {
      "name": "NEU_Dataset_Evaluation.ipynb",
      "provenance": [],
      "collapsed_sections": [],
      "mount_file_id": "1jCyTI9rJ9U6Wg_GiHXB7r-B8YxsJNIDV",
      "authorship_tag": "ABX9TyPomxoXNlPWFAZNoCoMjr41",
      "include_colab_link": true
    },
    "kernelspec": {
      "display_name": "Python 3",
      "name": "python3"
    }
  },
  "cells": [
    {
      "cell_type": "markdown",
      "metadata": {
        "id": "view-in-github",
        "colab_type": "text"
      },
      "source": [
        "<a href=\"https://colab.research.google.com/github/thecodeeagle/Vision-based-Defect-Recognition-Using-Fusion-Techniques/blob/main/NEU_Dataset_Evaluation.ipynb\" target=\"_parent\"><img src=\"https://colab.research.google.com/assets/colab-badge.svg\" alt=\"Open In Colab\"/></a>"
      ]
    },
    {
      "cell_type": "markdown",
      "metadata": {
        "id": "yoQn7Dngg0X5"
      },
      "source": [
        "# Preprocessing and Dataset Preparation"
      ]
    },
    {
      "cell_type": "markdown",
      "metadata": {
        "id": "smd94n0K8DrN"
      },
      "source": [
        "The dataset had six classes, hence labels are from 0 to 5. Sc, Rs, PS etc were defect folders and Refined_NEU was the main folder"
      ]
    },
    {
      "cell_type": "code",
      "metadata": {
        "id": "YayHZIpzFXfa"
      },
      "source": [
        "import os\n",
        "import numpy as np\n",
        "directory = 'drive/My Drive/Refined_NEU/Sc/'\n",
        "count = 0\n",
        "from PIL import Image\n",
        "train_images = []\n",
        "train_labels = []\n",
        "for filename in os.listdir(directory):\n",
        " \n",
        "    if filename.endswith(\".bmp\"):\n",
        "      img = Image.open(directory + filename)\n",
        "       \n",
        "      newsize = (224, 224) \n",
        "      img = img.resize(newsize)\n",
        "      img_arr = np.array(img)        \n",
        "      train_images.append(img_arr)\n",
        "     \n",
        "      train_labels.append(0)\n",
        "      count+=1\n",
        "\n",
        "directory = 'drive/My Drive/Refined_NEU/RS/'\n",
        "\n",
        "for filename in os.listdir(directory):\n",
        "  \n",
        "    if filename.endswith(\".bmp\"):\n",
        "      img = Image.open(directory + filename)\n",
        "       \n",
        "      \n",
        "      img = img.resize(newsize)\n",
        "      img_arr = np.array(img)        \n",
        "      train_images.append(img_arr)\n",
        "     \n",
        "      train_labels.append(1)\n",
        "      count+=1\n",
        "\n",
        "directory = 'drive/My Drive/Refined_NEU/PS/'\n",
        "for filename in os.listdir(directory):\n",
        "    if filename.endswith(\".bmp\"):\n",
        "      img = Image.open(directory + filename)\n",
        "       \n",
        "      newsize = (224, 224) \n",
        "      img = img.resize(newsize)\n",
        "      img_arr = np.array(img)        \n",
        "      train_images.append(img_arr)\n",
        "     \n",
        "      train_labels.append(2)\n",
        "      count+=1\n",
        "\n",
        "\n",
        "directory = 'drive/My Drive/Refined_NEU/Pa/'\n",
        "for filename in os.listdir(directory):\n",
        "    if filename.endswith(\".bmp\"):\n",
        "      img = Image.open(directory + filename)\n",
        "       \n",
        "      newsize = (224, 224) \n",
        "      img = img.resize(newsize)\n",
        "      img_arr = np.array(img)        \n",
        "      train_images.append(img_arr)\n",
        "     \n",
        "      train_labels.append(3)\n",
        "      count+=1\n",
        "directory = 'drive/My Drive/Refined_NEU/In/'\n",
        "for filename in os.listdir(directory):\n",
        "    if filename.endswith(\".bmp\"):\n",
        "      img = Image.open(directory+ filename)\n",
        "       \n",
        "      newsize = (224, 224) \n",
        "      img = img.resize(newsize)\n",
        "      img_arr = np.array(img)        \n",
        "      train_images.append(img_arr)\n",
        "     \n",
        "      train_labels.append(4)\n",
        "      count+=1\n",
        "directory = 'drive/My Drive/Refined_NEU/Cr/'\n",
        "for filename in os.listdir(directory):\n",
        "    if filename.endswith(\".bmp\"):\n",
        "      img = Image.open(directory + filename)\n",
        "       \n",
        "      newsize = (224, 224) \n",
        "      img = img.resize(newsize)\n",
        "      img_arr = np.array(img)        \n",
        "      train_images.append(img_arr)\n",
        "     \n",
        "      train_labels.append(5)\n",
        "      count+=1"
      ],
      "execution_count": null,
      "outputs": []
    },
    {
      "cell_type": "code",
      "metadata": {
        "id": "VHc69k6JHsj_"
      },
      "source": [
        "import numpy as np\n",
        "from sklearn.model_selection import train_test_split\n",
        "train_images, test_images, train_labels, test_labels = train_test_split(train_images, train_labels, test_size=0.25, random_state=42)"
      ],
      "execution_count": null,
      "outputs": []
    },
    {
      "cell_type": "code",
      "metadata": {
        "id": "wxJQBlHRRVcs"
      },
      "source": [
        "np.savez(\"drive/My Drive/NEUconverted-\", train_images=train_images, test_images = test_images, train_labels = train_labels, test_labels = test_labels)"
      ],
      "execution_count": null,
      "outputs": []
    },
    {
      "cell_type": "markdown",
      "metadata": {
        "id": "-3cbm8ddid9J"
      },
      "source": [
        "# Three Model Levels"
      ]
    },
    {
      "cell_type": "code",
      "metadata": {
        "id": "DGzkSHP6bye2"
      },
      "source": [
        "import tensorflow as tf\r\n",
        "import matplotlib.pyplot as plt\r\n",
        "import numpy as np\r\n",
        "import pandas as pd\r\n",
        "import sklearn\r\n",
        "import keras\r\n",
        "from tensorflow.keras import datasets,models,layers\r\n",
        "from sklearn.neighbors import KNeighborsClassifier\r\n",
        "from sklearn.metrics import classification_report, confusion_matrix, accuracy_score\r\n",
        "from sklearn.model_selection import cross_val_score\r\n",
        "from keras.models import Sequential\r\n",
        "from keras.layers import Dense, Dropout, Flatten\r\n",
        "from keras.layers import Conv2D, MaxPooling2D, BatchNormalization\r\n",
        "from keras.preprocessing.image import ImageDataGenerator\r\n",
        "from keras import optimizers\r\n",
        "import matplotlib.pyplot as plt"
      ],
      "execution_count": null,
      "outputs": []
    },
    {
      "cell_type": "code",
      "metadata": {
        "id": "QLXDnUZ6fWWr"
      },
      "source": [
        "loaded = np.load(\"drive/My Drive/NEUconverted-.npz\") # dataset was stored as a compressed npz file containing four arrays, images were resized to 224*224\r\n",
        "train_images = loaded[\"train_images\"]\r\n",
        "train_labels = loaded[\"train_labels\"]\r\n",
        "test_images = loaded[\"test_images\"]\r\n",
        "test_labels = loaded[\"test_labels\"]"
      ],
      "execution_count": null,
      "outputs": []
    },
    {
      "cell_type": "code",
      "metadata": {
        "id": "Dbp_rp9Pf1Wq"
      },
      "source": [
        "from imgaug import augmenters as iaa\r\n",
        "level1 = iaa.Sequential([\r\n",
        "       iaa.GaussianBlur(sigma=(0, 1.0)) # blur images with a sigma of 0 to 3.0\r\n",
        "])\r\n",
        "\r\n",
        "level2 = iaa.Sequential([\r\n",
        "       iaa.GaussianBlur(sigma=(0, 3.0)) # blur images with a sigma of 0 to 3.0; can vary the variance for second level if required\r\n",
        "])"
      ],
      "execution_count": null,
      "outputs": []
    },
    {
      "cell_type": "code",
      "metadata": {
        "id": "0bBJE1K2fW1Y"
      },
      "source": [
        "images_aug1 = level1(images=train_images)\r\n",
        "images_aug2 = level2(images=images_aug1)"
      ],
      "execution_count": null,
      "outputs": []
    },
    {
      "cell_type": "markdown",
      "metadata": {
        "id": "Dr1R_FHgMxIq"
      },
      "source": [
        "#Base VGG- Model1"
      ]
    },
    {
      "cell_type": "code",
      "metadata": {
        "id": "JuN0Fh8Ufeki"
      },
      "source": [
        "# example of loading the vgg16 model\r\n",
        "from keras.applications.vgg16 import VGG16\r\n",
        "# load model\r\n",
        "base_model = VGG16(weights=\"imagenet\", include_top=False, input_tensor=keras.layers.Input(shape=(224, 224, 3)))"
      ],
      "execution_count": null,
      "outputs": []
    },
    {
      "cell_type": "code",
      "metadata": {
        "id": "Sq4NWRIbfgvx"
      },
      "source": [
        "ensemble_model1 = Sequential()\r\n",
        "for layer in base_model.layers[:-1]:\r\n",
        "    ensemble_model1.add(layer)"
      ],
      "execution_count": null,
      "outputs": []
    },
    {
      "cell_type": "code",
      "metadata": {
        "id": "1_p5kb2lfh-S"
      },
      "source": [
        "for layer in ensemble_model1.layers:\r\n",
        "    layer.trainable = False"
      ],
      "execution_count": null,
      "outputs": []
    },
    {
      "cell_type": "code",
      "metadata": {
        "id": "DmvcM8LCNKnM"
      },
      "source": [
        "ensemble_model1.add(Flatten())\r\n",
        "ensemble_model1.add(Dense(units=128, activation='relu'))\r\n",
        "ensemble_model1.add(Dense(units=6, activation='softmax'))"
      ],
      "execution_count": null,
      "outputs": []
    },
    {
      "cell_type": "code",
      "metadata": {
        "id": "2ZeWijL7Nxkt"
      },
      "source": [
        "ensemble_model1.compile(loss = 'categorical_crossentropy', optimizer = optimizers.Adam(0.0001), metrics = ['acc'])"
      ],
      "execution_count": null,
      "outputs": []
    },
    {
      "cell_type": "code",
      "metadata": {
        "id": "BurI6YXvS6Gx"
      },
      "source": [
        "train_labels = tf.keras.utils.to_categorical(train_labels, num_classes=6)"
      ],
      "execution_count": null,
      "outputs": []
    },
    {
      "cell_type": "code",
      "metadata": {
        "id": "IW3YKCbcVe1r"
      },
      "source": [
        "test_images = np.repeat(test_images[..., np.newaxis], 3, -1)\r\n",
        "train_images = np.repeat(train_images[..., np.newaxis], 3, -1)"
      ],
      "execution_count": null,
      "outputs": []
    },
    {
      "cell_type": "code",
      "metadata": {
        "colab": {
          "base_uri": "https://localhost:8080/"
        },
        "id": "zv1IDlSqjuwn",
        "outputId": "33c300c2-c68d-490d-f70f-926633a2de86"
      },
      "source": [
        "tf.executing_eagerly()"
      ],
      "execution_count": null,
      "outputs": [
        {
          "output_type": "execute_result",
          "data": {
            "text/plain": [
              "True"
            ]
          },
          "metadata": {
            "tags": []
          },
          "execution_count": 15
        }
      ]
    },
    {
      "cell_type": "code",
      "metadata": {
        "colab": {
          "base_uri": "https://localhost:8080/"
        },
        "id": "sP_aWwjASsTT",
        "outputId": "0ad435b6-a53a-4650-e2d1-9b1ec3921999"
      },
      "source": [
        "np.random.seed(0)\r\n",
        "history =ensemble_model1.fit(train_images, train_labels, epochs=5, batch_size=8)        "
      ],
      "execution_count": null,
      "outputs": [
        {
          "output_type": "stream",
          "text": [
            "Epoch 1/5\n",
            "169/169 [==============================] - 5s 28ms/step - loss: 0.7457 - acc: 0.8536\n",
            "Epoch 2/5\n",
            "169/169 [==============================] - 5s 27ms/step - loss: 0.0188 - acc: 0.9909\n",
            "Epoch 3/5\n",
            "169/169 [==============================] - 5s 27ms/step - loss: 0.0332 - acc: 0.9945\n",
            "Epoch 4/5\n",
            "169/169 [==============================] - 5s 27ms/step - loss: 1.2386e-05 - acc: 1.0000\n",
            "Epoch 5/5\n",
            "169/169 [==============================] - 5s 27ms/step - loss: 9.0873e-06 - acc: 1.0000\n"
          ],
          "name": "stdout"
        }
      ]
    },
    {
      "cell_type": "code",
      "metadata": {
        "colab": {
          "base_uri": "https://localhost:8080/",
          "height": 573
        },
        "id": "bJdlSQvWfkkX",
        "outputId": "c430d6be-95e5-49f9-95c5-e2e39bcacb4d"
      },
      "source": [
        "# summarize history for accuracy\r\n",
        "plt.plot(history.history['acc'])\r\n",
        "plt.title('model accuracy')\r\n",
        "plt.ylabel('accuracy')\r\n",
        "plt.xlabel('epoch')\r\n",
        "plt.legend(['train', 'test'], loc='upper left')\r\n",
        "plt.show()\r\n",
        "# summarize history for loss\r\n",
        "plt.plot(history.history['loss'])\r\n",
        "plt.title('model loss')\r\n",
        "plt.ylabel('loss')\r\n",
        "plt.xlabel('epoch')\r\n",
        "plt.legend(['train', 'test'], loc='upper left')\r\n",
        "plt.show()"
      ],
      "execution_count": null,
      "outputs": [
        {
          "output_type": "display_data",
          "data": {
            "image/png": "[encoded data removed]",
            "text/plain": [
              "<Figure size 432x288 with 1 Axes>"
            ]
          },
          "metadata": {
            "tags": [],
            "needs_background": "light"
          }
        },
        {
          "output_type": "display_data",
          "data": {
            "image/png": "[encoded data removed]",
            "text/plain": [
              "<Figure size 432x288 with 1 Axes>"
            ]
          },
          "metadata": {
            "tags": [],
            "needs_background": "light"
          }
        }
      ]
    },
    {
      "cell_type": "code",
      "metadata": {
        "id": "ACi9LG01gHKi"
      },
      "source": [
        "test_labels = tf.keras.utils.to_categorical(test_labels, num_classes=6)"
      ],
      "execution_count": null,
      "outputs": []
    },
    {
      "cell_type": "code",
      "metadata": {
        "colab": {
          "base_uri": "https://localhost:8080/"
        },
        "id": "Zi2s3aDjjPlw",
        "outputId": "364c3e23-36bb-4036-a7b5-1731063bb4f5"
      },
      "source": [
        "ensemble_model1.evaluate(test_images, test_labels)"
      ],
      "execution_count": null,
      "outputs": [
        {
          "output_type": "stream",
          "text": [
            "15/15 [==============================] - 1s 59ms/step - loss: 0.0426 - acc: 0.9911\n"
          ],
          "name": "stdout"
        },
        {
          "output_type": "execute_result",
          "data": {
            "text/plain": [
              "[0.042621586471796036, 0.9911110997200012]"
            ]
          },
          "metadata": {
            "tags": []
          },
          "execution_count": 54
        }
      ]
    },
    {
      "cell_type": "code",
      "metadata": {
        "id": "iRGmh1pKlkWX"
      },
      "source": [
        "ensemble_model1.save(\"drive/My Drive/ensemble_model1\")"
      ],
      "execution_count": null,
      "outputs": []
    },
    {
      "cell_type": "markdown",
      "metadata": {
        "id": "1XD1dumfi2-R"
      },
      "source": [
        "# Model 2"
      ]
    },
    {
      "cell_type": "code",
      "metadata": {
        "id": "-i_lHby_i6gP"
      },
      "source": [
        "ensemble_model2 = Sequential()\r\n",
        "for layer in base_model.layers[:-1]:\r\n",
        "    ensemble_model2.add(layer)"
      ],
      "execution_count": null,
      "outputs": []
    },
    {
      "cell_type": "code",
      "metadata": {
        "id": "_oRUs_Pri6gQ"
      },
      "source": [
        "for layer in ensemble_model2.layers:\r\n",
        "    layer.trainable = False"
      ],
      "execution_count": null,
      "outputs": []
    },
    {
      "cell_type": "code",
      "metadata": {
        "id": "Gq387_QLi6gR"
      },
      "source": [
        "ensemble_model2.add(Flatten())\r\n",
        "ensemble_model2.add(Dense(units=128, activation='relu'))\r\n",
        "ensemble_model2.add(Dense(units=6, activation='softmax'))"
      ],
      "execution_count": null,
      "outputs": []
    },
    {
      "cell_type": "code",
      "metadata": {
        "id": "rw_lIiKji6gS"
      },
      "source": [
        "ensemble_model2.compile(loss = 'categorical_crossentropy', optimizer = optimizers.RMSprop(0.0001), metrics = ['acc'])"
      ],
      "execution_count": null,
      "outputs": []
    },
    {
      "cell_type": "code",
      "metadata": {
        "id": "ot6jbCSAi6gU"
      },
      "source": [
        "tf.executing_eagerly()\r\n",
        "np.random.seed(2)"
      ],
      "execution_count": null,
      "outputs": []
    },
    {
      "cell_type": "code",
      "metadata": {
        "id": "Gqu6luatdLTI"
      },
      "source": [
        "images_aug1 = np.repeat(images_aug1[..., np.newaxis], 3, -1) \r\n",
        "images_aug2 = np.repeat(images_aug2[..., np.newaxis], 3, -1)"
      ],
      "execution_count": null,
      "outputs": []
    },
    {
      "cell_type": "code",
      "metadata": {
        "colab": {
          "base_uri": "https://localhost:8080/"
        },
        "id": "E1THUYhai6gU",
        "outputId": "538432a7-c7dc-4f62-f6ad-5cb82438e48d"
      },
      "source": [
        "history = ensemble_model2.fit(images_aug1, train_labels, epochs=5, batch_size=8)          "
      ],
      "execution_count": null,
      "outputs": [
        {
          "output_type": "stream",
          "text": [
            "Epoch 1/5\n",
            "169/169 [==============================] - 6s 29ms/step - loss: 1.0224 - acc: 0.8389\n",
            "Epoch 2/5\n",
            "169/169 [==============================] - 5s 29ms/step - loss: 0.0230 - acc: 0.9928\n",
            "Epoch 3/5\n",
            "169/169 [==============================] - 5s 28ms/step - loss: 0.0034 - acc: 0.9997\n",
            "Epoch 4/5\n",
            "169/169 [==============================] - 5s 28ms/step - loss: 0.0061 - acc: 0.9996\n",
            "Epoch 5/5\n",
            "169/169 [==============================] - 5s 28ms/step - loss: 5.9358e-09 - acc: 1.0000\n"
          ],
          "name": "stdout"
        }
      ]
    },
    {
      "cell_type": "code",
      "metadata": {
        "colab": {
          "base_uri": "https://localhost:8080/",
          "height": 573
        },
        "id": "wZmkyIvCgtkq",
        "outputId": "41ebfbf1-94e8-4713-9820-25efeaf981bf"
      },
      "source": [
        "# summarize history for accuracy\r\n",
        "plt.plot(history.history['acc'])\r\n",
        "plt.title('model accuracy')\r\n",
        "plt.ylabel('accuracy')\r\n",
        "plt.xlabel('epoch')\r\n",
        "plt.legend(['train', 'test'], loc='upper left')\r\n",
        "plt.show()\r\n",
        "# summarize history for loss\r\n",
        "plt.plot(history.history['loss'])\r\n",
        "plt.title('model loss')\r\n",
        "plt.ylabel('loss')\r\n",
        "plt.xlabel('epoch')\r\n",
        "plt.legend(['train', 'test'], loc='upper left')\r\n",
        "plt.show()"
      ],
      "execution_count": null,
      "outputs": [
        {
          "output_type": "display_data",
          "data": {
            "image/png": "[encoded data removed]",
            "text/plain": [
              "<Figure size 432x288 with 1 Axes>"
            ]
          },
          "metadata": {
            "tags": [],
            "needs_background": "light"
          }
        },
        {
          "output_type": "display_data",
          "data": {
            "image/png": "[encoded data removed]",
            "text/plain": [
              "<Figure size 432x288 with 1 Axes>"
            ]
          },
          "metadata": {
            "tags": [],
            "needs_background": "light"
          }
        }
      ]
    },
    {
      "cell_type": "code",
      "metadata": {
        "colab": {
          "base_uri": "https://localhost:8080/"
        },
        "id": "gRvON7vFi6gV",
        "outputId": "5374df52-08cc-4309-b0bd-dfea9ec87dbb"
      },
      "source": [
        "ensemble_model2.evaluate(test_images, test_labels)"
      ],
      "execution_count": null,
      "outputs": [
        {
          "output_type": "stream",
          "text": [
            "15/15 [==============================] - 1s 58ms/step - loss: 0.0112 - acc: 0.9978\n"
          ],
          "name": "stdout"
        },
        {
          "output_type": "execute_result",
          "data": {
            "text/plain": [
              "[0.011237884871661663, 0.9977777600288391]"
            ]
          },
          "metadata": {
            "tags": []
          },
          "execution_count": 63
        }
      ]
    },
    {
      "cell_type": "code",
      "metadata": {
        "colab": {
          "base_uri": "https://localhost:8080/"
        },
        "id": "8TJ8Q4y5lvqO",
        "outputId": "65a5def1-816b-491f-ce24-fcffd8447275"
      },
      "source": [
        "ensemble_model2.save(\"drive/My Drive/ensemble_model2\")"
      ],
      "execution_count": null,
      "outputs": [
        {
          "output_type": "stream",
          "text": [
            "INFO:tensorflow:Assets written to: drive/My Drive/ensemble_model2/assets\n"
          ],
          "name": "stdout"
        }
      ]
    },
    {
      "cell_type": "markdown",
      "metadata": {
        "id": "G6PWwf7wjMZS"
      },
      "source": [
        "# Model 3"
      ]
    },
    {
      "cell_type": "code",
      "metadata": {
        "id": "9Dcygc4ijTfx"
      },
      "source": [
        "ensemble_model3 = Sequential()\r\n",
        "for layer in base_model.layers[:-1]:\r\n",
        "    ensemble_model3.add(layer)"
      ],
      "execution_count": null,
      "outputs": []
    },
    {
      "cell_type": "code",
      "metadata": {
        "id": "Kc6mq_MXjTfy"
      },
      "source": [
        "for layer in ensemble_model3.layers:\r\n",
        "    layer.trainable = False"
      ],
      "execution_count": null,
      "outputs": []
    },
    {
      "cell_type": "code",
      "metadata": {
        "id": "I57sHYnPjTfy"
      },
      "source": [
        "ensemble_model3.add(Flatten())\r\n",
        "ensemble_model3.add(Dense(units=128, activation='relu'))\r\n",
        "ensemble_model3.add(Dense(units=6, activation='softmax'))"
      ],
      "execution_count": null,
      "outputs": []
    },
    {
      "cell_type": "code",
      "metadata": {
        "id": "En5D7VpDjTfy"
      },
      "source": [
        "ensemble_model3.compile(loss = 'categorical_crossentropy', optimizer = optimizers.RMSprop(0.0001), metrics = ['acc'])"
      ],
      "execution_count": null,
      "outputs": []
    },
    {
      "cell_type": "code",
      "metadata": {
        "id": "KGzxk1HFjTfz"
      },
      "source": [
        "tf.executing_eagerly()\r\n",
        "np.random.seed(1)"
      ],
      "execution_count": null,
      "outputs": []
    },
    {
      "cell_type": "code",
      "metadata": {
        "colab": {
          "base_uri": "https://localhost:8080/"
        },
        "id": "lXSVpGhXjTfz",
        "outputId": "bae6c9aa-28a4-4e66-9ab9-cde01420d3a5"
      },
      "source": [
        "history =ensemble_model3.fit(images_aug2, train_labels, epochs=5, batch_size=8)         "
      ],
      "execution_count": null,
      "outputs": [
        {
          "output_type": "stream",
          "text": [
            "Epoch 1/5\n",
            "169/169 [==============================] - 6s 29ms/step - loss: 1.1109 - acc: 0.8144\n",
            "Epoch 2/5\n",
            "169/169 [==============================] - 5s 28ms/step - loss: 0.0250 - acc: 0.9898\n",
            "Epoch 3/5\n",
            "169/169 [==============================] - 5s 28ms/step - loss: 0.0225 - acc: 0.9973\n",
            "Epoch 4/5\n",
            "169/169 [==============================] - 5s 29ms/step - loss: 1.6471e-05 - acc: 1.0000\n",
            "Epoch 5/5\n",
            "169/169 [==============================] - 5s 28ms/step - loss: 8.6098e-05 - acc: 1.0000\n"
          ],
          "name": "stdout"
        }
      ]
    },
    {
      "cell_type": "code",
      "metadata": {
        "colab": {
          "base_uri": "https://localhost:8080/",
          "height": 573
        },
        "id": "062xR1sSg-yb",
        "outputId": "a0b809be-7616-448c-f2e0-2de73033924b"
      },
      "source": [
        "# summarize history for accuracy\r\n",
        "plt.plot(history.history['acc'])\r\n",
        "plt.title('model accuracy')\r\n",
        "plt.ylabel('accuracy')\r\n",
        "plt.xlabel('epoch')\r\n",
        "plt.legend(['train', 'test'], loc='upper left')\r\n",
        "plt.show()\r\n",
        "# summarize history for loss\r\n",
        "plt.plot(history.history['loss'])\r\n",
        "plt.title('model loss')\r\n",
        "plt.ylabel('loss')\r\n",
        "plt.xlabel('epoch')\r\n",
        "plt.legend(['train', 'test'], loc='upper left')\r\n",
        "plt.show()"
      ],
      "execution_count": null,
      "outputs": [
        {
          "output_type": "display_data",
          "data": {
            "image/png": "[encoded data removed]",
            "text/plain": [
              "<Figure size 432x288 with 1 Axes>"
            ]
          },
          "metadata": {
            "tags": [],
            "needs_background": "light"
          }
        },
        {
          "output_type": "display_data",
          "data": {
            "image/png": "[encoded data removed]",
            "text/plain": [
              "<Figure size 432x288 with 1 Axes>"
            ]
          },
          "metadata": {
            "tags": [],
            "needs_background": "light"
          }
        }
      ]
    },
    {
      "cell_type": "code",
      "metadata": {
        "colab": {
          "base_uri": "https://localhost:8080/"
        },
        "id": "V-cgHeoajTf0",
        "outputId": "eaa0ad6e-fa42-4336-bedf-79d1ea64af32"
      },
      "source": [
        "ensemble_model3.evaluate(test_images, test_labels)"
      ],
      "execution_count": null,
      "outputs": [
        {
          "output_type": "stream",
          "text": [
            "15/15 [==============================] - 1s 57ms/step - loss: 0.0247 - acc: 0.9956\n"
          ],
          "name": "stdout"
        },
        {
          "output_type": "execute_result",
          "data": {
            "text/plain": [
              "[0.024745820090174675, 0.995555579662323]"
            ]
          },
          "metadata": {
            "tags": []
          },
          "execution_count": 69
        }
      ]
    },
    {
      "cell_type": "code",
      "metadata": {
        "colab": {
          "base_uri": "https://localhost:8080/"
        },
        "id": "cl1uZ4aGlyek",
        "outputId": "778356e2-e2b8-48a9-97f4-8a96c61bcbe8"
      },
      "source": [
        "ensemble_model2.save(\"drive/My Drive/ensemble_model3\")"
      ],
      "execution_count": null,
      "outputs": [
        {
          "output_type": "stream",
          "text": [
            "INFO:tensorflow:Assets written to: drive/My Drive/ensemble_model3/assets\n"
          ],
          "name": "stdout"
        }
      ]
    },
    {
      "cell_type": "markdown",
      "metadata": {
        "id": "YlZZHNzFkXRQ"
      },
      "source": [
        "# Fusion Using Majority Voting"
      ]
    },
    {
      "cell_type": "code",
      "metadata": {
        "id": "Mm0fFkHglG6b"
      },
      "source": [
        "i=0\r\n",
        "sum = 0.00\r\n",
        "weights = [1,1,1]\r\n",
        "while(i<3):\r\n",
        "  sum+= (models[i].predict(test_images))* weights[i]\r\n",
        "  i+=1"
      ],
      "execution_count": null,
      "outputs": []
    },
    {
      "cell_type": "code",
      "metadata": {
        "id": "xK9VwpTwlXtt"
      },
      "source": [
        "final = np.argmax(sum/3, axis = 1)"
      ],
      "execution_count": null,
      "outputs": []
    },
    {
      "cell_type": "code",
      "metadata": {
        "colab": {
          "base_uri": "https://localhost:8080/"
        },
        "id": "N8P6jlzylXUz",
        "outputId": "3f08d870-f0d7-4e93-ff22-10909733ba06"
      },
      "source": [
        "from sklearn.metrics import accuracy_score\r\n",
        "accuracy_score(final, test_labels)"
      ],
      "execution_count": null,
      "outputs": [
        {
          "output_type": "execute_result",
          "data": {
            "text/plain": [
              "0.9955555555555555"
            ]
          },
          "metadata": {
            "tags": []
          },
          "execution_count": 124
        }
      ]
    },
    {
      "cell_type": "markdown",
      "metadata": {
        "id": "KMomLpmTkLts"
      },
      "source": [
        "# Evaluation of Final Results"
      ]
    },
    {
      "cell_type": "code",
      "metadata": {
        "id": "fPN5h0eFiWph"
      },
      "source": [
        "final = np.argmax(sum/(np.sum(weights)), axis = 1)"
      ],
      "execution_count": null,
      "outputs": []
    },
    {
      "cell_type": "code",
      "metadata": {
        "id": "QvXtVtNm7Xxu"
      },
      "source": [
        "test_labels = loaded[\"test_labels\"]     #not using one hot encoded ones "
      ],
      "execution_count": null,
      "outputs": []
    },
    {
      "cell_type": "code",
      "metadata": {
        "colab": {
          "base_uri": "https://localhost:8080/"
        },
        "id": "49lNsETNiZzh",
        "outputId": "7bb26dc2-1e1b-4aab-d742-5327d10b5dde"
      },
      "source": [
        "from sklearn.metrics import accuracy_score\r\n",
        "accuracy_score(final, test_labels)"
      ],
      "execution_count": null,
      "outputs": [
        {
          "output_type": "execute_result",
          "data": {
            "text/plain": [
              "0.9955555555555555"
            ]
          },
          "metadata": {
            "tags": []
          },
          "execution_count": 115
        }
      ]
    },
    {
      "cell_type": "code",
      "metadata": {
        "id": "-hMeGfIclDw_"
      },
      "source": [
        "import matplotlib.pyplot as plt\r\n",
        "\r\n",
        "def plot_confusion_matrix(cm, classes,\r\n",
        "                        normalize=False,\r\n",
        "                        title='Confusion matrix',\r\n",
        "                        cmap=plt.cm.Blues):\r\n",
        "    \"\"\"\r\n",
        "    This function prints and plots the confusion matrix.\r\n",
        "    Normalization can be applied by setting `normalize=True`.\r\n",
        "    \"\"\"\r\n",
        "    plt.figure(figsize=(40, 40)) \r\n",
        "    plt.imshow(cm, interpolation='nearest', cmap=cmap)\r\n",
        "    plt.title(title)\r\n",
        "    plt.colorbar()\r\n",
        "    tick_marks = np.arange(len(classes))\r\n",
        "    plt.xticks(tick_marks, classes, rotation=45)\r\n",
        "    plt.yticks(tick_marks, classes)\r\n",
        "\r\n",
        "    if normalize:\r\n",
        "        cm = cm.astype('float') / cm.sum(axis=1)[:, np.newaxis]\r\n",
        "        print(\"Normalized confusion matrix\")\r\n",
        "    else:\r\n",
        "        print('Confusion matrix, without normalization')\r\n",
        "\r\n",
        "    print(cm)\r\n",
        "\r\n",
        "    thresh = cm.max() / 2.\r\n",
        "    for i, j in itertools.product(range(cm.shape[0]), range(cm.shape[1])):\r\n",
        "        plt.text(j, i, cm[i, j],\r\n",
        "            horizontalalignment=\"center\",\r\n",
        "            color=\"white\" if cm[i, j] > thresh else \"black\")\r\n",
        "\r\n",
        "    plt.ylabel('True label')\r\n",
        "    plt.xlabel('Predicted label')"
      ],
      "execution_count": null,
      "outputs": []
    },
    {
      "cell_type": "code",
      "metadata": {
        "colab": {
          "base_uri": "https://localhost:8080/",
          "height": 1000
        },
        "id": "EmveCNLglEZB",
        "outputId": "9cc313ef-7d28-47f8-c20c-b01d8b68224d"
      },
      "source": [
        "%matplotlib inline\r\n",
        "\r\n",
        "import itertools\r\n",
        "import matplotlib.pyplot as plt\r\n",
        "from sklearn.metrics import confusion_matrix\r\n",
        "cm_plot_labels = ['Sc', 'RS', 'PS', 'Pa', 'In', 'Cr']\r\n",
        "cm= confusion_matrix(y_true = test_labels, y_pred = final)\r\n",
        "\r\n",
        "plot_confusion_matrix(cm=cm, classes=cm_plot_labels, title='Confusion Matrix', normalize = True)"
      ],
      "execution_count": null,
      "outputs": [
        {
          "output_type": "stream",
          "text": [
            "Normalized confusion matrix\n",
            "[[0.98507463 0.         0.         0.         0.01492537 0.        ]\n",
            " [0.         1.         0.         0.         0.         0.        ]\n",
            " [0.         0.         0.98591549 0.         0.         0.01408451]\n",
            " [0.         0.         0.         1.         0.         0.        ]\n",
            " [0.         0.         0.         0.         1.         0.        ]\n",
            " [0.         0.         0.         0.         0.         1.        ]]\n"
          ],
          "name": "stdout"
        },
        {
          "output_type": "display_data",
          "data": {
            "image/png": "[encoded data removed]",
            "text/plain": [
              "<Figure size 2880x2880 with 2 Axes>"
            ]
          },
          "metadata": {
            "tags": [],
            "needs_background": "light"
          }
        }
      ]
    }
  ]
}